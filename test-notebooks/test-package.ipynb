{
 "cells": [
  {
   "cell_type": "code",
   "execution_count": 1,
   "metadata": {},
   "outputs": [],
   "source": [
    "from pypeds import ipeds\n",
    "import pandas as pd"
   ]
  },
  {
   "cell_type": "code",
   "execution_count": 2,
   "metadata": {},
   "outputs": [],
   "source": [
    "# YEARS = list(range(2014, 2018, 1))\n",
    "YEARS = [2017]"
   ]
  },
  {
   "cell_type": "code",
   "execution_count": 3,
   "metadata": {},
   "outputs": [],
   "source": [
    "hd_df = ipeds.hd(years=YEARS)"
   ]
  },
  {
   "cell_type": "code",
   "execution_count": 4,
   "metadata": {},
   "outputs": [
    {
     "data": {
      "text/plain": [
       "(7153, 74)"
      ]
     },
     "execution_count": 4,
     "metadata": {},
     "output_type": "execute_result"
    }
   ],
   "source": [
    "hd_df.shape"
   ]
  },
  {
   "cell_type": "code",
   "execution_count": 5,
   "metadata": {},
   "outputs": [
    {
     "data": {
      "text/plain": [
       "2017.0    7153\n",
       "Name: survey_year, dtype: int64"
      ]
     },
     "execution_count": 5,
     "metadata": {},
     "output_type": "execute_result"
    }
   ],
   "source": [
    "hd_df.survey_year.value_counts()"
   ]
  },
  {
   "cell_type": "markdown",
   "metadata": {},
   "source": [
    "----"
   ]
  },
  {
   "cell_type": "code",
   "execution_count": 6,
   "metadata": {},
   "outputs": [],
   "source": [
    "ic = ipeds.IC()"
   ]
  },
  {
   "cell_type": "code",
   "execution_count": 7,
   "metadata": {},
   "outputs": [
    {
     "name": "stdout",
     "output_type": "stream",
     "text": [
      "2017\n"
     ]
    }
   ],
   "source": [
    "ic.get_test()"
   ]
  },
  {
   "cell_type": "code",
   "execution_count": 8,
   "metadata": {},
   "outputs": [],
   "source": [
    "x = ic.get()"
   ]
  },
  {
   "cell_type": "code",
   "execution_count": 9,
   "metadata": {},
   "outputs": [
    {
     "data": {
      "text/plain": [
       "NoneType"
      ]
     },
     "execution_count": 9,
     "metadata": {},
     "output_type": "execute_result"
    }
   ],
   "source": [
    "type(x)"
   ]
  },
  {
   "cell_type": "markdown",
   "metadata": {},
   "source": [
    "---"
   ]
  },
  {
   "cell_type": "code",
   "execution_count": null,
   "metadata": {},
   "outputs": [],
   "source": []
  },
  {
   "cell_type": "code",
   "execution_count": null,
   "metadata": {},
   "outputs": [],
   "source": []
  },
  {
   "cell_type": "code",
   "execution_count": 10,
   "metadata": {},
   "outputs": [],
   "source": [
    "x"
   ]
  },
  {
   "cell_type": "code",
   "execution_count": 11,
   "metadata": {},
   "outputs": [],
   "source": [
    "x = pd.DataFrame()"
   ]
  },
  {
   "cell_type": "code",
   "execution_count": 13,
   "metadata": {},
   "outputs": [
    {
     "data": {
      "text/plain": [
       "pandas.core.frame.DataFrame"
      ]
     },
     "execution_count": 13,
     "metadata": {},
     "output_type": "execute_result"
    }
   ],
   "source": [
    "type(x)"
   ]
  },
  {
   "cell_type": "code",
   "execution_count": 14,
   "metadata": {},
   "outputs": [
    {
     "data": {
      "text/plain": [
       "\u001b[0;31mSignature:\u001b[0m \u001b[0mx\u001b[0m\u001b[0;34m.\u001b[0m\u001b[0mappend\u001b[0m\u001b[0;34m(\u001b[0m\u001b[0mother\u001b[0m\u001b[0;34m,\u001b[0m \u001b[0mignore_index\u001b[0m\u001b[0;34m=\u001b[0m\u001b[0;32mFalse\u001b[0m\u001b[0;34m,\u001b[0m \u001b[0mverify_integrity\u001b[0m\u001b[0;34m=\u001b[0m\u001b[0;32mFalse\u001b[0m\u001b[0;34m,\u001b[0m \u001b[0msort\u001b[0m\u001b[0;34m=\u001b[0m\u001b[0;32mNone\u001b[0m\u001b[0;34m)\u001b[0m\u001b[0;34m\u001b[0m\u001b[0;34m\u001b[0m\u001b[0m\n",
       "\u001b[0;31mDocstring:\u001b[0m\n",
       "Append rows of `other` to the end of caller, returning a new object.\n",
       "\n",
       "Columns in `other` that are not in the caller are added as new columns.\n",
       "\n",
       "Parameters\n",
       "----------\n",
       "other : DataFrame or Series/dict-like object, or list of these\n",
       "    The data to append.\n",
       "ignore_index : boolean, default False\n",
       "    If True, do not use the index labels.\n",
       "verify_integrity : boolean, default False\n",
       "    If True, raise ValueError on creating index with duplicates.\n",
       "sort : boolean, default None\n",
       "    Sort columns if the columns of `self` and `other` are not aligned.\n",
       "    The default sorting is deprecated and will change to not-sorting\n",
       "    in a future version of pandas. Explicitly pass ``sort=True`` to\n",
       "    silence the warning and sort. Explicitly pass ``sort=False`` to\n",
       "    silence the warning and not sort.\n",
       "\n",
       "    .. versionadded:: 0.23.0\n",
       "\n",
       "Returns\n",
       "-------\n",
       "appended : DataFrame\n",
       "\n",
       "See Also\n",
       "--------\n",
       "pandas.concat : General function to concatenate DataFrame, Series\n",
       "    or Panel objects.\n",
       "\n",
       "Notes\n",
       "-----\n",
       "If a list of dict/series is passed and the keys are all contained in\n",
       "the DataFrame's index, the order of the columns in the resulting\n",
       "DataFrame will be unchanged.\n",
       "\n",
       "Iteratively appending rows to a DataFrame can be more computationally\n",
       "intensive than a single concatenate. A better solution is to append\n",
       "those rows to a list and then concatenate the list with the original\n",
       "DataFrame all at once.\n",
       "\n",
       "Examples\n",
       "--------\n",
       "\n",
       ">>> df = pd.DataFrame([[1, 2], [3, 4]], columns=list('AB'))\n",
       ">>> df\n",
       "   A  B\n",
       "0  1  2\n",
       "1  3  4\n",
       ">>> df2 = pd.DataFrame([[5, 6], [7, 8]], columns=list('AB'))\n",
       ">>> df.append(df2)\n",
       "   A  B\n",
       "0  1  2\n",
       "1  3  4\n",
       "0  5  6\n",
       "1  7  8\n",
       "\n",
       "With `ignore_index` set to True:\n",
       "\n",
       ">>> df.append(df2, ignore_index=True)\n",
       "   A  B\n",
       "0  1  2\n",
       "1  3  4\n",
       "2  5  6\n",
       "3  7  8\n",
       "\n",
       "The following, while not recommended methods for generating DataFrames,\n",
       "show two ways to generate a DataFrame from multiple data sources.\n",
       "\n",
       "Less efficient:\n",
       "\n",
       ">>> df = pd.DataFrame(columns=['A'])\n",
       ">>> for i in range(5):\n",
       "...     df = df.append({'A': i}, ignore_index=True)\n",
       ">>> df\n",
       "   A\n",
       "0  0\n",
       "1  1\n",
       "2  2\n",
       "3  3\n",
       "4  4\n",
       "\n",
       "More efficient:\n",
       "\n",
       ">>> pd.concat([pd.DataFrame([i], columns=['A']) for i in range(5)],\n",
       "...           ignore_index=True)\n",
       "   A\n",
       "0  0\n",
       "1  1\n",
       "2  2\n",
       "3  3\n",
       "4  4\n",
       "\u001b[0;31mFile:\u001b[0m      ~/anaconda3/envs/pypeds/lib/python3.7/site-packages/pandas/core/frame.py\n",
       "\u001b[0;31mType:\u001b[0m      method\n"
      ]
     },
     "metadata": {},
     "output_type": "display_data"
    }
   ],
   "source": [
    "x.append?"
   ]
  },
  {
   "cell_type": "code",
   "execution_count": null,
   "metadata": {},
   "outputs": [],
   "source": []
  }
 ],
 "metadata": {
  "kernelspec": {
   "display_name": "Python 3",
   "language": "python",
   "name": "python3"
  },
  "language_info": {
   "codemirror_mode": {
    "name": "ipython",
    "version": 3
   },
   "file_extension": ".py",
   "mimetype": "text/x-python",
   "name": "python",
   "nbconvert_exporter": "python",
   "pygments_lexer": "ipython3",
   "version": "3.7.3"
  }
 },
 "nbformat": 4,
 "nbformat_minor": 2
}
