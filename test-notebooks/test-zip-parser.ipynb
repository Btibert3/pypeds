{
 "cells": [
  {
   "cell_type": "code",
   "execution_count": 1,
   "metadata": {},
   "outputs": [],
   "source": [
    "import pandas as pd\n",
    "import numpy as np\n",
    "import os\n",
    "import requests\n",
    "import zipfile\n",
    "import glob\n",
    "import time"
   ]
  },
  {
   "cell_type": "code",
   "execution_count": 2,
   "metadata": {},
   "outputs": [],
   "source": [
    "def read_survey(path):\n",
    "    if isinstance(path, list):\n",
    "        path = path[0]\n",
    "    # assumes a path, presumably from zip_parser\n",
    "    try:\n",
    "        ## encoding option needed for h2017, at least, wasnt needed for IC2013\n",
    "        survey_file = pd.read_csv(path, encoding='ISO-8859-1')\n",
    "    except:\n",
    "        survey_file = pd.DataFrame({'path':path})\n",
    "    # remove the file\n",
    "    os.remove(path)\n",
    "    # column names to lower - helps later and assumes a survey varname is historically unique\n",
    "    survey_file.columns = survey_file.columns.str.lower()\n",
    "    # add the survey\n",
    "    return(survey_file)"
   ]
  },
  {
   "cell_type": "code",
   "execution_count": 3,
   "metadata": {},
   "outputs": [],
   "source": [
    "def get_ic(year):\n",
    "    # assert that year is a int and length 1\n",
    "    assert isinstance(year, int), \"year is not an integer\"\n",
    "    assert year >= 2002 and year <= 2017, \"year must be >=2002 and < 2017\"\n",
    "    # build the SURVEY id\n",
    "    SURVEY = 'IC' + str(year)\n",
    "    # build the url\n",
    "    URL = \"https://nces.ed.gov/ipeds/datacenter/data/{}.zip\".format(SURVEY)\n",
    "    # return the bits as a dictionary for use later\n",
    "    return({'url': URL, 'survey': SURVEY})\n",
    "\n"
   ]
  },
  {
   "cell_type": "code",
   "execution_count": 4,
   "metadata": {},
   "outputs": [],
   "source": [
    "def get_adm(year):\n",
    "    # assert that year is a int and length 1\n",
    "    assert isinstance(year, int), \"year is not an integer\"\n",
    "    assert year >= 2014 and year <= 2017, \"year must be >=2014 and < 2017\"\n",
    "    # build the SURVEY id\n",
    "    SURVEY = 'ADM' + str(year)\n",
    "    # build the url\n",
    "    URL = \"https://nces.ed.gov/ipeds/datacenter/data/{}.zip\".format(SURVEY)\n",
    "    # return the bits as a dictionary for use later\n",
    "    return({'url': URL, 'survey': SURVEY})"
   ]
  },
  {
   "cell_type": "code",
   "execution_count": 11,
   "metadata": {},
   "outputs": [],
   "source": [
    "year = 2017\n",
    "year_info = get_adm(year)"
   ]
  },
  {
   "cell_type": "code",
   "execution_count": 12,
   "metadata": {},
   "outputs": [],
   "source": [
    "url =  year_info['url']\n",
    "survey = year_info['survey']"
   ]
  },
  {
   "cell_type": "code",
   "execution_count": 13,
   "metadata": {},
   "outputs": [],
   "source": [
    "path = \"/tmp/\" + str(int(time.time())) + \"/\"  # hacky way to make unique path to extract time\n",
    "file = survey + \".zip\"\n",
    "survey_lower = survey.lower()"
   ]
  },
  {
   "cell_type": "code",
   "execution_count": 14,
   "metadata": {},
   "outputs": [],
   "source": [
    "# get the data\n",
    "os.mkdir(path)\n",
    "try:\n",
    "  results = requests.get(url)\n",
    "except:\n",
    "  pass\n",
    "with open(path + file, 'wb') as f:\n",
    "    f.write(results.content)"
   ]
  },
  {
   "cell_type": "code",
   "execution_count": 15,
   "metadata": {},
   "outputs": [],
   "source": [
    "file = zipfile.ZipFile(path + file)\n",
    "file.extractall(path=path)"
   ]
  },
  {
   "cell_type": "code",
   "execution_count": 16,
   "metadata": {},
   "outputs": [],
   "source": [
    "files = glob.glob(path + \"*\"+survey_lower+\"*\")"
   ]
  },
  {
   "cell_type": "code",
   "execution_count": 17,
   "metadata": {},
   "outputs": [
    {
     "data": {
      "text/plain": [
       "['/tmp/1557845558/adm2017.csv']"
      ]
     },
     "execution_count": 17,
     "metadata": {},
     "output_type": "execute_result"
    }
   ],
   "source": [
    "files"
   ]
  },
  {
   "cell_type": "code",
   "execution_count": 18,
   "metadata": {},
   "outputs": [],
   "source": [
    "if len(files) > 1:\n",
    "    raw_file = [s for s in files if 'rv' in s]\n",
    "    raw_file = str(raw_file[0]) # just in case, take first\n",
    "else:\n",
    "    raw_file = str(files[0])"
   ]
  },
  {
   "cell_type": "code",
   "execution_count": 19,
   "metadata": {},
   "outputs": [
    {
     "data": {
      "text/plain": [
       "'/tmp/1557845558/adm2017.csv'"
      ]
     },
     "execution_count": 19,
     "metadata": {},
     "output_type": "execute_result"
    }
   ],
   "source": [
    "raw_file"
   ]
  },
  {
   "cell_type": "code",
   "execution_count": 20,
   "metadata": {},
   "outputs": [
    {
     "data": {
      "text/plain": [
       "'/tmp/1557845558/adm2017.csv'"
      ]
     },
     "execution_count": 20,
     "metadata": {},
     "output_type": "execute_result"
    }
   ],
   "source": [
    "str(raw_file)"
   ]
  },
  {
   "cell_type": "code",
   "execution_count": null,
   "metadata": {},
   "outputs": [],
   "source": []
  }
 ],
 "metadata": {
  "kernelspec": {
   "display_name": "Python 3",
   "language": "python",
   "name": "python3"
  },
  "language_info": {
   "codemirror_mode": {
    "name": "ipython",
    "version": 3
   },
   "file_extension": ".py",
   "mimetype": "text/x-python",
   "name": "python",
   "nbconvert_exporter": "python",
   "pygments_lexer": "ipython3",
   "version": "3.7.3"
  }
 },
 "nbformat": 4,
 "nbformat_minor": 2
}
