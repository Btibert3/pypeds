{
 "cells": [
  {
   "cell_type": "code",
   "execution_count": 6,
   "metadata": {},
   "outputs": [],
   "source": [
    "import pandas as pd"
   ]
  },
  {
   "cell_type": "markdown",
   "metadata": {},
   "source": [
    "----"
   ]
  },
  {
   "cell_type": "code",
   "execution_count": 10,
   "metadata": {},
   "outputs": [],
   "source": [
    "def zip_parser(url=None, survey=None):\n",
    "    # setup the tmp path and file name\n",
    "    # thanks to https://stackoverflow.com/questions/55718917/download-zip-file-locally-to-tempfile-extract-files-to-tempfile-and-list-the-f/55719124#55719124\n",
    "    path = \"/tmp/\"\n",
    "    file = survey + \".zip\"\n",
    "    survey_lower = survey.lower()\n",
    "    # get the data\n",
    "    try:\n",
    "      results = requests.get(url)\n",
    "    except:\n",
    "      pass\n",
    "    with open(path + file, 'wb') as f:\n",
    "        f.write(results.content)\n",
    "    # extract the files to the path\n",
    "    file = zipfile.ZipFile(path + file)\n",
    "    file.extractall(path=path)\n",
    "    # list the csv files for the surveys, most likely get one , but may get to with _rv for revised\n",
    "    files = glob.glob(path + \"*\"+survey_lower+\"*\")\n",
    "    # isolate the file name\n",
    "    if len(files) > 1:\n",
    "        raw_file = [s for s in files if 'rv' in s]\n",
    "        raw_file = str(raw_file[0]) # just in case, take first\n",
    "    else:\n",
    "        raw_file = str(files[0])\n",
    "    # return a string\n",
    "    return(str(raw_file))"
   ]
  },
  {
   "cell_type": "code",
   "execution_count": 11,
   "metadata": {},
   "outputs": [],
   "source": [
    "def read_survey(path):\n",
    "    if isinstance(path, list):\n",
    "        path = path[0]\n",
    "    # assumes a path, presumably from zip_parser\n",
    "    try:\n",
    "        ## encoding option needed for h2017, at least, wasnt needed for IC2013\n",
    "        survey_file = pd.read_csv(path, encoding='ISO-8859-1')\n",
    "    except:\n",
    "        survey_file = pd.DataFrame({'path':path})\n",
    "    # column names to lower - helps later and assumes a survey varname is historically unique\n",
    "    survey_file.columns = survey_file.columns.str.lower()\n",
    "    # add the survey\n",
    "    return(survey_file)\n"
   ]
  },
  {
   "cell_type": "code",
   "execution_count": null,
   "metadata": {},
   "outputs": [],
   "source": []
  },
  {
   "cell_type": "markdown",
   "metadata": {},
   "source": [
    "---"
   ]
  },
  {
   "cell_type": "code",
   "execution_count": null,
   "metadata": {},
   "outputs": [],
   "source": []
  },
  {
   "cell_type": "code",
   "execution_count": 12,
   "metadata": {},
   "outputs": [],
   "source": [
    "class IC(object):\n",
    "    \"\"\"docstring\"\"\"\n",
    "    \n",
    "    # init\n",
    "    def __init__(self, years=[2017]):\n",
    "        \"\"\"Constructor\"\"\"\n",
    "        assert isinstance(years, list), \"year is not a list of integers representing 4-digit year for survey\"\n",
    "        self.years = years\n",
    "        \n",
    "    # testing\n",
    "    def get_test(self):\n",
    "        for year in self.years:\n",
    "            print(year)\n",
    "\n",
    "\n",
    "    # method to get the data and return a dataframe\n",
    "    def get(self):\n",
    "        # setup the df\n",
    "        init_df = pd.DataFrame({'pypeds_init': [True]})\n",
    "        for year in self.years:\n",
    "            # assert that year is a int and length 1\n",
    "            assert isinstance(year, int), \"year is not an integer\"\n",
    "            assert year >= 2002 and year <= 2017, \"year must be >=2002 and < 2017\"\n",
    "            # build the SURVEY id\n",
    "            SURVEY = 'IC' + str(year)\n",
    "            # build the url\n",
    "            URL = \"https://nces.ed.gov/ipeds/datacenter/data/{}.zip\".format(SURVEY)\n",
    "            # return the bits as a dictionary for use later\n",
    "            year_info = {'url': URL, 'survey': SURVEY}\n",
    "            #year_info = get_efc(year)\n",
    "            year_fpath = zip_parser(url=year_info['url'], survey=year_info['survey'])\n",
    "            tmp_df = read_survey(year_fpath)\n",
    "            tmp_df.columns = tmp_df.columns.str.lower()\n",
    "            tmp_df['survey_year'] = int(year)\n",
    "            tmp_df['fall_year'] = int(year)\n",
    "            init_df = init_df.append(tmp_df, ignore_index=True, sort=False)\n",
    "            # print(\"finished hd for year {}\".format(str(year)))\n",
    "        # finish up\n",
    "        # ignore pandas SettingWithCopyWarning, basically\n",
    "        pd.options.mode.chained_assignment = None\n",
    "        init_df = init_df.loc[init_df.pypeds_init != True, ]\n",
    "        init_df.drop(columns=['pypeds_init'], inplace=True)\n",
    "        self.df = init_df\n",
    "        return self.df\n"
   ]
  },
  {
   "cell_type": "code",
   "execution_count": 13,
   "metadata": {},
   "outputs": [],
   "source": [
    "ic = IC()"
   ]
  },
  {
   "cell_type": "code",
   "execution_count": 14,
   "metadata": {},
   "outputs": [
    {
     "ename": "UnboundLocalError",
     "evalue": "local variable 'results' referenced before assignment",
     "output_type": "error",
     "traceback": [
      "\u001b[0;31m---------------------------------------------------------------------------\u001b[0m",
      "\u001b[0;31mUnboundLocalError\u001b[0m                         Traceback (most recent call last)",
      "\u001b[0;32m<ipython-input-14-9eda99611b9f>\u001b[0m in \u001b[0;36m<module>\u001b[0;34m\u001b[0m\n\u001b[0;32m----> 1\u001b[0;31m \u001b[0mic\u001b[0m\u001b[0;34m.\u001b[0m\u001b[0mget\u001b[0m\u001b[0;34m(\u001b[0m\u001b[0;34m)\u001b[0m\u001b[0;34m\u001b[0m\u001b[0;34m\u001b[0m\u001b[0m\n\u001b[0m",
      "\u001b[0;32m<ipython-input-12-94cb9c385e95>\u001b[0m in \u001b[0;36mget\u001b[0;34m(self)\u001b[0m\n\u001b[1;32m     29\u001b[0m             \u001b[0myear_info\u001b[0m \u001b[0;34m=\u001b[0m \u001b[0;34m{\u001b[0m\u001b[0;34m'url'\u001b[0m\u001b[0;34m:\u001b[0m \u001b[0mURL\u001b[0m\u001b[0;34m,\u001b[0m \u001b[0;34m'survey'\u001b[0m\u001b[0;34m:\u001b[0m \u001b[0mSURVEY\u001b[0m\u001b[0;34m}\u001b[0m\u001b[0;34m\u001b[0m\u001b[0;34m\u001b[0m\u001b[0m\n\u001b[1;32m     30\u001b[0m             \u001b[0;31m#year_info = get_efc(year)\u001b[0m\u001b[0;34m\u001b[0m\u001b[0;34m\u001b[0m\u001b[0;34m\u001b[0m\u001b[0m\n\u001b[0;32m---> 31\u001b[0;31m             \u001b[0myear_fpath\u001b[0m \u001b[0;34m=\u001b[0m \u001b[0mzip_parser\u001b[0m\u001b[0;34m(\u001b[0m\u001b[0murl\u001b[0m\u001b[0;34m=\u001b[0m\u001b[0myear_info\u001b[0m\u001b[0;34m[\u001b[0m\u001b[0;34m'url'\u001b[0m\u001b[0;34m]\u001b[0m\u001b[0;34m,\u001b[0m \u001b[0msurvey\u001b[0m\u001b[0;34m=\u001b[0m\u001b[0myear_info\u001b[0m\u001b[0;34m[\u001b[0m\u001b[0;34m'survey'\u001b[0m\u001b[0;34m]\u001b[0m\u001b[0;34m)\u001b[0m\u001b[0;34m\u001b[0m\u001b[0;34m\u001b[0m\u001b[0m\n\u001b[0m\u001b[1;32m     32\u001b[0m             \u001b[0mtmp_df\u001b[0m \u001b[0;34m=\u001b[0m \u001b[0mread_survey\u001b[0m\u001b[0;34m(\u001b[0m\u001b[0myear_fpath\u001b[0m\u001b[0;34m)\u001b[0m\u001b[0;34m\u001b[0m\u001b[0;34m\u001b[0m\u001b[0m\n\u001b[1;32m     33\u001b[0m             \u001b[0mtmp_df\u001b[0m\u001b[0;34m.\u001b[0m\u001b[0mcolumns\u001b[0m \u001b[0;34m=\u001b[0m \u001b[0mtmp_df\u001b[0m\u001b[0;34m.\u001b[0m\u001b[0mcolumns\u001b[0m\u001b[0;34m.\u001b[0m\u001b[0mstr\u001b[0m\u001b[0;34m.\u001b[0m\u001b[0mlower\u001b[0m\u001b[0;34m(\u001b[0m\u001b[0;34m)\u001b[0m\u001b[0;34m\u001b[0m\u001b[0;34m\u001b[0m\u001b[0m\n",
      "\u001b[0;32m<ipython-input-10-6762b726d533>\u001b[0m in \u001b[0;36mzip_parser\u001b[0;34m(url, survey)\u001b[0m\n\u001b[1;32m     11\u001b[0m       \u001b[0;32mpass\u001b[0m\u001b[0;34m\u001b[0m\u001b[0;34m\u001b[0m\u001b[0m\n\u001b[1;32m     12\u001b[0m     \u001b[0;32mwith\u001b[0m \u001b[0mopen\u001b[0m\u001b[0;34m(\u001b[0m\u001b[0mpath\u001b[0m \u001b[0;34m+\u001b[0m \u001b[0mfile\u001b[0m\u001b[0;34m,\u001b[0m \u001b[0;34m'wb'\u001b[0m\u001b[0;34m)\u001b[0m \u001b[0;32mas\u001b[0m \u001b[0mf\u001b[0m\u001b[0;34m:\u001b[0m\u001b[0;34m\u001b[0m\u001b[0;34m\u001b[0m\u001b[0m\n\u001b[0;32m---> 13\u001b[0;31m         \u001b[0mf\u001b[0m\u001b[0;34m.\u001b[0m\u001b[0mwrite\u001b[0m\u001b[0;34m(\u001b[0m\u001b[0mresults\u001b[0m\u001b[0;34m.\u001b[0m\u001b[0mcontent\u001b[0m\u001b[0;34m)\u001b[0m\u001b[0;34m\u001b[0m\u001b[0;34m\u001b[0m\u001b[0m\n\u001b[0m\u001b[1;32m     14\u001b[0m     \u001b[0;31m# extract the files to the path\u001b[0m\u001b[0;34m\u001b[0m\u001b[0;34m\u001b[0m\u001b[0;34m\u001b[0m\u001b[0m\n\u001b[1;32m     15\u001b[0m     \u001b[0mfile\u001b[0m \u001b[0;34m=\u001b[0m \u001b[0mzipfile\u001b[0m\u001b[0;34m.\u001b[0m\u001b[0mZipFile\u001b[0m\u001b[0;34m(\u001b[0m\u001b[0mpath\u001b[0m \u001b[0;34m+\u001b[0m \u001b[0mfile\u001b[0m\u001b[0;34m)\u001b[0m\u001b[0;34m\u001b[0m\u001b[0;34m\u001b[0m\u001b[0m\n",
      "\u001b[0;31mUnboundLocalError\u001b[0m: local variable 'results' referenced before assignment"
     ]
    }
   ],
   "source": [
    "ic.get()"
   ]
  },
  {
   "cell_type": "code",
   "execution_count": null,
   "metadata": {},
   "outputs": [],
   "source": []
  }
 ],
 "metadata": {
  "kernelspec": {
   "display_name": "Python 3",
   "language": "python",
   "name": "python3"
  },
  "language_info": {
   "codemirror_mode": {
    "name": "ipython",
    "version": 3
   },
   "file_extension": ".py",
   "mimetype": "text/x-python",
   "name": "python",
   "nbconvert_exporter": "python",
   "pygments_lexer": "ipython3",
   "version": "3.7.3"
  }
 },
 "nbformat": 4,
 "nbformat_minor": 2
}
