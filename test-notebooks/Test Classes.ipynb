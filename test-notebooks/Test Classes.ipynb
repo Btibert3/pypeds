{
 "cells": [
  {
   "cell_type": "code",
   "execution_count": 12,
   "metadata": {},
   "outputs": [],
   "source": [
    "## setup\n",
    "import pandas as pd\n",
    "import numpy as np\n",
    "import os\n",
    "import requests\n",
    "import zipfile\n",
    "import glob"
   ]
  },
  {
   "cell_type": "code",
   "execution_count": 13,
   "metadata": {},
   "outputs": [],
   "source": [
    "### GLOBALS\n",
    "\n",
    "# zip file factory - returns a pandas dataframe\n",
    "def zip_parser(url=None, survey=None):\n",
    "    # setup the tmp path and file name\n",
    "    # thanks to https://stackoverflow.com/questions/55718917/download-zip-file-locally-to-tempfile-extract-files-to-tempfile-and-list-the-f/55719124#55719124\n",
    "    path = \"/tmp/\"\n",
    "    file = survey + \".zip\"\n",
    "    survey_lower = survey.lower()\n",
    "    # get the data\n",
    "    try:\n",
    "      results = requests.get(url)\n",
    "    except:\n",
    "      pass\n",
    "    with open(path + file, 'wb') as f:\n",
    "        f.write(results.content)\n",
    "    # extract the files to the path\n",
    "    file = zipfile.ZipFile(path + file)\n",
    "    file.extractall(path=path)\n",
    "    # list the csv files for the surveys, most likely get one , but may get to with _rv for revised\n",
    "    files = glob.glob(path + \"*\"+survey_lower+\"*\")\n",
    "    # isolate the file name\n",
    "    if len(files) > 1:\n",
    "        raw_file = [s for s in files if 'rv' in s]\n",
    "        raw_file = str(raw_file[0]) # just in case, take first\n",
    "    else:\n",
    "        raw_file = str(files[0])\n",
    "    # return a string\n",
    "    return(str(raw_file))\n",
    "\n",
    "# utility to bring in an individual survey file and return a pandas dataframe\n",
    "def read_survey(path):\n",
    "    if isinstance(path, list):\n",
    "        path = path[0]\n",
    "    # assumes a path, presumably from zip_parser\n",
    "    try:\n",
    "        ## encoding option needed for h2017, at least, wasnt needed for IC2013\n",
    "        survey_file = pd.read_csv(path, encoding='ISO-8859-1')\n",
    "    except:\n",
    "        survey_file = pd.DataFrame({'path':path})\n",
    "    # column names to lower - helps later and assumes a survey varname is historically unique\n",
    "    survey_file.columns = survey_file.columns.str.lower()\n",
    "    # add the survey\n",
    "    return(survey_file)\n",
    "\n",
    "\n",
    "class IC(object):\n",
    "    \"\"\"docstring\"\"\"\n",
    "    \n",
    "    # init\n",
    "    def __init__(self, years=[2017]):\n",
    "        \"\"\"Constructor\"\"\"\n",
    "        assert isinstance(years, list), \"year is not a list of integers representing 4-digit year for survey\"\n",
    "        self.years = years\n",
    "        \n",
    "    # testing\n",
    "    def get_test(self):\n",
    "        for year in self.years:\n",
    "            print(year)\n",
    "\n",
    "\n",
    "    # method to get the data and return a dataframe\n",
    "    def get(self):\n",
    "        # setup the df\n",
    "        init_df = pd.DataFrame({'pypeds_init': [True]})\n",
    "        for year in self.years:\n",
    "            # assert that year is a int and length 1\n",
    "            assert isinstance(year, int), \"year is not an integer\"\n",
    "            assert year >= 2002 and year <= 2017, \"year must be >=2002 and < 2017\"\n",
    "            # build the SURVEY id\n",
    "            SURVEY = 'IC' + str(year)\n",
    "            # build the url\n",
    "            URL = \"https://nces.ed.gov/ipeds/datacenter/data/{}.zip\".format(SURVEY)\n",
    "            # return the bits as a dictionary for use later\n",
    "            year_info = {'url': URL, 'survey': SURVEY}\n",
    "            #year_info = get_efc(year)\n",
    "            year_fpath = zip_parser(url=year_info['url'], survey=year_info['survey'])\n",
    "            tmp_df = read_survey(year_fpath)\n",
    "            tmp_df.columns = tmp_df.columns.str.lower()\n",
    "            tmp_df['survey_year'] = int(year)\n",
    "            tmp_df['fall_year'] = int(year)\n",
    "            init_df = init_df.append(tmp_df, ignore_index=True, sort=False)\n",
    "            # print(\"finished hd for year {}\".format(str(year)))\n",
    "        # finish up\n",
    "        # ignore pandas SettingWithCopyWarning, basically\n",
    "        pd.options.mode.chained_assignment = None\n",
    "        init_df = init_df.loc[init_df.pypeds_init != True, ]\n",
    "        init_df.drop(columns=['pypeds_init'], inplace=True)\n",
    "        return(init_df)\n",
    "    \n",
    "        \n",
    "    \n",
    "    "
   ]
  },
  {
   "cell_type": "code",
   "execution_count": 14,
   "metadata": {},
   "outputs": [],
   "source": [
    "x = IC()"
   ]
  },
  {
   "cell_type": "code",
   "execution_count": 15,
   "metadata": {},
   "outputs": [
    {
     "data": {
      "text/plain": [
       "<__main__.IC at 0x115c38fd0>"
      ]
     },
     "execution_count": 15,
     "metadata": {},
     "output_type": "execute_result"
    }
   ],
   "source": [
    "x"
   ]
  },
  {
   "cell_type": "code",
   "execution_count": 16,
   "metadata": {},
   "outputs": [
    {
     "data": {
      "text/plain": [
       "[2017]"
      ]
     },
     "execution_count": 16,
     "metadata": {},
     "output_type": "execute_result"
    }
   ],
   "source": [
    "x.years"
   ]
  },
  {
   "cell_type": "code",
   "execution_count": 19,
   "metadata": {},
   "outputs": [
    {
     "ename": "AssertionError",
     "evalue": "year is not a list of integers representing 4-digit year for survey",
     "output_type": "error",
     "traceback": [
      "\u001b[0;31m-----------------------------------------------------------------\u001b[0m",
      "\u001b[0;31mAssertionError\u001b[0m                  Traceback (most recent call last)",
      "\u001b[0;32m<ipython-input-19-44a398f50c55>\u001b[0m in \u001b[0;36m<module>\u001b[0;34m\u001b[0m\n\u001b[1;32m      1\u001b[0m \u001b[0;31m# should return an assertion error\u001b[0m\u001b[0;34m\u001b[0m\u001b[0;34m\u001b[0m\u001b[0;34m\u001b[0m\u001b[0m\n\u001b[0;32m----> 2\u001b[0;31m \u001b[0mx\u001b[0m \u001b[0;34m=\u001b[0m \u001b[0mIC\u001b[0m\u001b[0;34m(\u001b[0m\u001b[0;36m2014\u001b[0m\u001b[0;34m)\u001b[0m\u001b[0;34m\u001b[0m\u001b[0;34m\u001b[0m\u001b[0m\n\u001b[0m\u001b[1;32m      3\u001b[0m \u001b[0mx\u001b[0m\u001b[0;34m\u001b[0m\u001b[0;34m\u001b[0m\u001b[0m\n",
      "\u001b[0;32m<ipython-input-13-69596fb07221>\u001b[0m in \u001b[0;36m__init__\u001b[0;34m(self, years)\u001b[0m\n\u001b[1;32m     51\u001b[0m     \u001b[0;32mdef\u001b[0m \u001b[0m__init__\u001b[0m\u001b[0;34m(\u001b[0m\u001b[0mself\u001b[0m\u001b[0;34m,\u001b[0m \u001b[0myears\u001b[0m\u001b[0;34m=\u001b[0m\u001b[0;34m[\u001b[0m\u001b[0;36m2017\u001b[0m\u001b[0;34m]\u001b[0m\u001b[0;34m)\u001b[0m\u001b[0;34m:\u001b[0m\u001b[0;34m\u001b[0m\u001b[0;34m\u001b[0m\u001b[0m\n\u001b[1;32m     52\u001b[0m         \u001b[0;34m\"\"\"Constructor\"\"\"\u001b[0m\u001b[0;34m\u001b[0m\u001b[0;34m\u001b[0m\u001b[0m\n\u001b[0;32m---> 53\u001b[0;31m         \u001b[0;32massert\u001b[0m \u001b[0misinstance\u001b[0m\u001b[0;34m(\u001b[0m\u001b[0myears\u001b[0m\u001b[0;34m,\u001b[0m \u001b[0mlist\u001b[0m\u001b[0;34m)\u001b[0m\u001b[0;34m,\u001b[0m \u001b[0;34m\"year is not a list of integers representing 4-digit year for survey\"\u001b[0m\u001b[0;34m\u001b[0m\u001b[0;34m\u001b[0m\u001b[0m\n\u001b[0m\u001b[1;32m     54\u001b[0m         \u001b[0mself\u001b[0m\u001b[0;34m.\u001b[0m\u001b[0myears\u001b[0m \u001b[0;34m=\u001b[0m \u001b[0myears\u001b[0m\u001b[0;34m\u001b[0m\u001b[0;34m\u001b[0m\u001b[0m\n\u001b[1;32m     55\u001b[0m \u001b[0;34m\u001b[0m\u001b[0m\n",
      "\u001b[0;31mAssertionError\u001b[0m: year is not a list of integers representing 4-digit year for survey"
     ]
    }
   ],
   "source": [
    "# should return an assertion error\n",
    "x = IC(2014)\n",
    "x"
   ]
  },
  {
   "cell_type": "code",
   "execution_count": 20,
   "metadata": {},
   "outputs": [
    {
     "data": {
      "text/plain": [
       "[2017]"
      ]
     },
     "execution_count": 20,
     "metadata": {},
     "output_type": "execute_result"
    }
   ],
   "source": [
    "x.years"
   ]
  },
  {
   "cell_type": "code",
   "execution_count": 21,
   "metadata": {},
   "outputs": [],
   "source": [
    "x = IC(years=[2014])"
   ]
  },
  {
   "cell_type": "code",
   "execution_count": 22,
   "metadata": {},
   "outputs": [
    {
     "data": {
      "text/plain": [
       "[2014]"
      ]
     },
     "execution_count": 22,
     "metadata": {},
     "output_type": "execute_result"
    }
   ],
   "source": [
    "x.years"
   ]
  },
  {
   "cell_type": "code",
   "execution_count": 23,
   "metadata": {},
   "outputs": [
    {
     "name": "stdout",
     "output_type": "stream",
     "text": [
      "2014\n"
     ]
    }
   ],
   "source": [
    "y = x.get_test()"
   ]
  },
  {
   "cell_type": "code",
   "execution_count": 24,
   "metadata": {},
   "outputs": [],
   "source": [
    "x = IC(years=[2015,2016])"
   ]
  },
  {
   "cell_type": "code",
   "execution_count": 25,
   "metadata": {},
   "outputs": [
    {
     "name": "stdout",
     "output_type": "stream",
     "text": [
      "2015\n",
      "2016\n"
     ]
    }
   ],
   "source": [
    "x.get_test()"
   ]
  },
  {
   "cell_type": "code",
   "execution_count": 26,
   "metadata": {},
   "outputs": [],
   "source": [
    "x = IC()"
   ]
  },
  {
   "cell_type": "code",
   "execution_count": 27,
   "metadata": {},
   "outputs": [
    {
     "data": {
      "text/plain": [
       "[2017]"
      ]
     },
     "execution_count": 27,
     "metadata": {},
     "output_type": "execute_result"
    }
   ],
   "source": [
    "x.years"
   ]
  },
  {
   "cell_type": "code",
   "execution_count": 28,
   "metadata": {},
   "outputs": [],
   "source": [
    "y = x.get()"
   ]
  },
  {
   "cell_type": "code",
   "execution_count": 29,
   "metadata": {},
   "outputs": [
    {
     "data": {
      "text/html": [
       "<div>\n",
       "<style scoped>\n",
       "    .dataframe tbody tr th:only-of-type {\n",
       "        vertical-align: middle;\n",
       "    }\n",
       "\n",
       "    .dataframe tbody tr th {\n",
       "        vertical-align: top;\n",
       "    }\n",
       "\n",
       "    .dataframe thead th {\n",
       "        text-align: right;\n",
       "    }\n",
       "</style>\n",
       "<table border=\"1\" class=\"dataframe\">\n",
       "  <thead>\n",
       "    <tr style=\"text-align: right;\">\n",
       "      <th></th>\n",
       "      <th>unitid</th>\n",
       "      <th>peo1istr</th>\n",
       "      <th>peo2istr</th>\n",
       "      <th>peo3istr</th>\n",
       "      <th>peo4istr</th>\n",
       "      <th>peo5istr</th>\n",
       "      <th>peo6istr</th>\n",
       "      <th>cntlaffi</th>\n",
       "      <th>pubprime</th>\n",
       "      <th>pubsecon</th>\n",
       "      <th>...</th>\n",
       "      <th>sport1</th>\n",
       "      <th>confno1</th>\n",
       "      <th>sport2</th>\n",
       "      <th>confno2</th>\n",
       "      <th>sport3</th>\n",
       "      <th>confno3</th>\n",
       "      <th>sport4</th>\n",
       "      <th>confno4</th>\n",
       "      <th>survey_year</th>\n",
       "      <th>fall_year</th>\n",
       "    </tr>\n",
       "  </thead>\n",
       "  <tbody>\n",
       "    <tr>\n",
       "      <th>1</th>\n",
       "      <td>100654.0</td>\n",
       "      <td>0.0</td>\n",
       "      <td>1.0</td>\n",
       "      <td>0.0</td>\n",
       "      <td>0.0</td>\n",
       "      <td>0.0</td>\n",
       "      <td>0.0</td>\n",
       "      <td>1.0</td>\n",
       "      <td>2.0</td>\n",
       "      <td>0.0</td>\n",
       "      <td>...</td>\n",
       "      <td>1.0</td>\n",
       "      <td>133.0</td>\n",
       "      <td>1.0</td>\n",
       "      <td>133.0</td>\n",
       "      <td>1.0</td>\n",
       "      <td>133.0</td>\n",
       "      <td>1.0</td>\n",
       "      <td>200.0</td>\n",
       "      <td>2017.0</td>\n",
       "      <td>2017.0</td>\n",
       "    </tr>\n",
       "    <tr>\n",
       "      <th>2</th>\n",
       "      <td>100663.0</td>\n",
       "      <td>0.0</td>\n",
       "      <td>1.0</td>\n",
       "      <td>1.0</td>\n",
       "      <td>0.0</td>\n",
       "      <td>0.0</td>\n",
       "      <td>0.0</td>\n",
       "      <td>1.0</td>\n",
       "      <td>2.0</td>\n",
       "      <td>0.0</td>\n",
       "      <td>...</td>\n",
       "      <td>1.0</td>\n",
       "      <td>111.0</td>\n",
       "      <td>1.0</td>\n",
       "      <td>111.0</td>\n",
       "      <td>1.0</td>\n",
       "      <td>111.0</td>\n",
       "      <td>1.0</td>\n",
       "      <td>111.0</td>\n",
       "      <td>2017.0</td>\n",
       "      <td>2017.0</td>\n",
       "    </tr>\n",
       "    <tr>\n",
       "      <th>3</th>\n",
       "      <td>100690.0</td>\n",
       "      <td>0.0</td>\n",
       "      <td>1.0</td>\n",
       "      <td>0.0</td>\n",
       "      <td>0.0</td>\n",
       "      <td>0.0</td>\n",
       "      <td>0.0</td>\n",
       "      <td>4.0</td>\n",
       "      <td>-2.0</td>\n",
       "      <td>-2.0</td>\n",
       "      <td>...</td>\n",
       "      <td>2.0</td>\n",
       "      <td>-2.0</td>\n",
       "      <td>2.0</td>\n",
       "      <td>-2.0</td>\n",
       "      <td>2.0</td>\n",
       "      <td>-2.0</td>\n",
       "      <td>2.0</td>\n",
       "      <td>-2.0</td>\n",
       "      <td>2017.0</td>\n",
       "      <td>2017.0</td>\n",
       "    </tr>\n",
       "    <tr>\n",
       "      <th>4</th>\n",
       "      <td>100706.0</td>\n",
       "      <td>0.0</td>\n",
       "      <td>1.0</td>\n",
       "      <td>1.0</td>\n",
       "      <td>1.0</td>\n",
       "      <td>0.0</td>\n",
       "      <td>0.0</td>\n",
       "      <td>1.0</td>\n",
       "      <td>2.0</td>\n",
       "      <td>0.0</td>\n",
       "      <td>...</td>\n",
       "      <td>2.0</td>\n",
       "      <td>-2.0</td>\n",
       "      <td>1.0</td>\n",
       "      <td>146.0</td>\n",
       "      <td>1.0</td>\n",
       "      <td>146.0</td>\n",
       "      <td>1.0</td>\n",
       "      <td>146.0</td>\n",
       "      <td>2017.0</td>\n",
       "      <td>2017.0</td>\n",
       "    </tr>\n",
       "    <tr>\n",
       "      <th>5</th>\n",
       "      <td>100724.0</td>\n",
       "      <td>1.0</td>\n",
       "      <td>1.0</td>\n",
       "      <td>0.0</td>\n",
       "      <td>0.0</td>\n",
       "      <td>0.0</td>\n",
       "      <td>0.0</td>\n",
       "      <td>1.0</td>\n",
       "      <td>2.0</td>\n",
       "      <td>0.0</td>\n",
       "      <td>...</td>\n",
       "      <td>1.0</td>\n",
       "      <td>133.0</td>\n",
       "      <td>1.0</td>\n",
       "      <td>133.0</td>\n",
       "      <td>1.0</td>\n",
       "      <td>133.0</td>\n",
       "      <td>1.0</td>\n",
       "      <td>133.0</td>\n",
       "      <td>2017.0</td>\n",
       "      <td>2017.0</td>\n",
       "    </tr>\n",
       "  </tbody>\n",
       "</table>\n",
       "<p>5 rows × 123 columns</p>\n",
       "</div>"
      ],
      "text/plain": [
       "     unitid  peo1istr  peo2istr  peo3istr  peo4istr  peo5istr  peo6istr  \\\n",
       "1  100654.0       0.0       1.0       0.0       0.0       0.0       0.0   \n",
       "2  100663.0       0.0       1.0       1.0       0.0       0.0       0.0   \n",
       "3  100690.0       0.0       1.0       0.0       0.0       0.0       0.0   \n",
       "4  100706.0       0.0       1.0       1.0       1.0       0.0       0.0   \n",
       "5  100724.0       1.0       1.0       0.0       0.0       0.0       0.0   \n",
       "\n",
       "   cntlaffi  pubprime  pubsecon  ...  sport1  confno1  sport2  confno2  \\\n",
       "1       1.0       2.0       0.0  ...     1.0    133.0     1.0    133.0   \n",
       "2       1.0       2.0       0.0  ...     1.0    111.0     1.0    111.0   \n",
       "3       4.0      -2.0      -2.0  ...     2.0     -2.0     2.0     -2.0   \n",
       "4       1.0       2.0       0.0  ...     2.0     -2.0     1.0    146.0   \n",
       "5       1.0       2.0       0.0  ...     1.0    133.0     1.0    133.0   \n",
       "\n",
       "   sport3  confno3  sport4  confno4   survey_year  fall_year  \n",
       "1     1.0    133.0     1.0     200.0       2017.0     2017.0  \n",
       "2     1.0    111.0     1.0     111.0       2017.0     2017.0  \n",
       "3     2.0     -2.0     2.0      -2.0       2017.0     2017.0  \n",
       "4     1.0    146.0     1.0     146.0       2017.0     2017.0  \n",
       "5     1.0    133.0     1.0     133.0       2017.0     2017.0  \n",
       "\n",
       "[5 rows x 123 columns]"
      ]
     },
     "execution_count": 29,
     "metadata": {},
     "output_type": "execute_result"
    }
   ],
   "source": [
    "y.head()"
   ]
  },
  {
   "cell_type": "code",
   "execution_count": 33,
   "metadata": {},
   "outputs": [],
   "source": [
    "a = IC(years=[2016,2017])"
   ]
  },
  {
   "cell_type": "code",
   "execution_count": 34,
   "metadata": {},
   "outputs": [],
   "source": [
    "b = a.get()"
   ]
  },
  {
   "cell_type": "code",
   "execution_count": 35,
   "metadata": {},
   "outputs": [
    {
     "data": {
      "text/plain": [
       "pandas.core.frame.DataFrame"
      ]
     },
     "execution_count": 35,
     "metadata": {},
     "output_type": "execute_result"
    }
   ],
   "source": [
    "type(b)"
   ]
  },
  {
   "cell_type": "code",
   "execution_count": 39,
   "metadata": {},
   "outputs": [
    {
     "data": {
      "text/plain": [
       "Index(['unitid', 'peo1istr', 'peo2istr', 'peo3istr', 'peo4istr', 'peo5istr',\n",
       "       'peo6istr', 'cntlaffi', 'pubprime', 'pubsecon',\n",
       "       ...\n",
       "       'confno4 ', 'survey_year', 'fall_year', 'dstnugc', 'dstnugp', 'dstnugn',\n",
       "       'dstngc', 'dstngp', 'dstngn', 'distpgs'],\n",
       "      dtype='object', length=123)"
      ]
     },
     "execution_count": 39,
     "metadata": {},
     "output_type": "execute_result"
    }
   ],
   "source": [
    "b.columns"
   ]
  },
  {
   "cell_type": "code",
   "execution_count": 40,
   "metadata": {},
   "outputs": [
    {
     "data": {
      "text/plain": [
       "2016.0    7047\n",
       "2017.0    6882\n",
       "Name: survey_year, dtype: int64"
      ]
     },
     "execution_count": 40,
     "metadata": {},
     "output_type": "execute_result"
    }
   ],
   "source": [
    "b.survey_year.value_counts()"
   ]
  },
  {
   "cell_type": "code",
   "execution_count": null,
   "metadata": {},
   "outputs": [],
   "source": []
  },
  {
   "cell_type": "code",
   "execution_count": 41,
   "metadata": {},
   "outputs": [
    {
     "data": {
      "text/html": [
       "<div>\n",
       "<style scoped>\n",
       "    .dataframe tbody tr th:only-of-type {\n",
       "        vertical-align: middle;\n",
       "    }\n",
       "\n",
       "    .dataframe tbody tr th {\n",
       "        vertical-align: top;\n",
       "    }\n",
       "\n",
       "    .dataframe thead th {\n",
       "        text-align: right;\n",
       "    }\n",
       "</style>\n",
       "<table border=\"1\" class=\"dataframe\">\n",
       "  <thead>\n",
       "    <tr style=\"text-align: right;\">\n",
       "      <th></th>\n",
       "      <th>1</th>\n",
       "    </tr>\n",
       "  </thead>\n",
       "  <tbody>\n",
       "    <tr>\n",
       "      <th>unitid</th>\n",
       "      <td>100654</td>\n",
       "    </tr>\n",
       "    <tr>\n",
       "      <th>peo1istr</th>\n",
       "      <td>0</td>\n",
       "    </tr>\n",
       "    <tr>\n",
       "      <th>peo2istr</th>\n",
       "      <td>1</td>\n",
       "    </tr>\n",
       "    <tr>\n",
       "      <th>peo3istr</th>\n",
       "      <td>0</td>\n",
       "    </tr>\n",
       "    <tr>\n",
       "      <th>peo4istr</th>\n",
       "      <td>0</td>\n",
       "    </tr>\n",
       "    <tr>\n",
       "      <th>peo5istr</th>\n",
       "      <td>0</td>\n",
       "    </tr>\n",
       "    <tr>\n",
       "      <th>peo6istr</th>\n",
       "      <td>0</td>\n",
       "    </tr>\n",
       "    <tr>\n",
       "      <th>cntlaffi</th>\n",
       "      <td>1</td>\n",
       "    </tr>\n",
       "    <tr>\n",
       "      <th>pubprime</th>\n",
       "      <td>2</td>\n",
       "    </tr>\n",
       "    <tr>\n",
       "      <th>pubsecon</th>\n",
       "      <td>0</td>\n",
       "    </tr>\n",
       "    <tr>\n",
       "      <th>relaffil</th>\n",
       "      <td>-2</td>\n",
       "    </tr>\n",
       "    <tr>\n",
       "      <th>level1</th>\n",
       "      <td>0</td>\n",
       "    </tr>\n",
       "    <tr>\n",
       "      <th>level2</th>\n",
       "      <td>0</td>\n",
       "    </tr>\n",
       "    <tr>\n",
       "      <th>level3</th>\n",
       "      <td>0</td>\n",
       "    </tr>\n",
       "    <tr>\n",
       "      <th>level4</th>\n",
       "      <td>0</td>\n",
       "    </tr>\n",
       "    <tr>\n",
       "      <th>level5</th>\n",
       "      <td>1</td>\n",
       "    </tr>\n",
       "    <tr>\n",
       "      <th>level6</th>\n",
       "      <td>0</td>\n",
       "    </tr>\n",
       "    <tr>\n",
       "      <th>level7</th>\n",
       "      <td>1</td>\n",
       "    </tr>\n",
       "    <tr>\n",
       "      <th>level8</th>\n",
       "      <td>1</td>\n",
       "    </tr>\n",
       "    <tr>\n",
       "      <th>level12</th>\n",
       "      <td>0</td>\n",
       "    </tr>\n",
       "    <tr>\n",
       "      <th>level17</th>\n",
       "      <td>1</td>\n",
       "    </tr>\n",
       "    <tr>\n",
       "      <th>level18</th>\n",
       "      <td>0</td>\n",
       "    </tr>\n",
       "    <tr>\n",
       "      <th>level19</th>\n",
       "      <td>0</td>\n",
       "    </tr>\n",
       "    <tr>\n",
       "      <th>calsys</th>\n",
       "      <td>1</td>\n",
       "    </tr>\n",
       "    <tr>\n",
       "      <th>ft_ug</th>\n",
       "      <td>1</td>\n",
       "    </tr>\n",
       "    <tr>\n",
       "      <th>ft_ftug</th>\n",
       "      <td>1</td>\n",
       "    </tr>\n",
       "    <tr>\n",
       "      <th>ftgdnidp</th>\n",
       "      <td>1</td>\n",
       "    </tr>\n",
       "    <tr>\n",
       "      <th>pt_ug</th>\n",
       "      <td>1</td>\n",
       "    </tr>\n",
       "    <tr>\n",
       "      <th>pt_ftug</th>\n",
       "      <td>1</td>\n",
       "    </tr>\n",
       "    <tr>\n",
       "      <th>ptgdnidp</th>\n",
       "      <td>1</td>\n",
       "    </tr>\n",
       "    <tr>\n",
       "      <th>...</th>\n",
       "      <td>...</td>\n",
       "    </tr>\n",
       "    <tr>\n",
       "      <th>xrmbdamt</th>\n",
       "      <td>A</td>\n",
       "    </tr>\n",
       "    <tr>\n",
       "      <th>rmbrdamt</th>\n",
       "      <td>.</td>\n",
       "    </tr>\n",
       "    <tr>\n",
       "      <th>xappfeeu</th>\n",
       "      <td>R</td>\n",
       "    </tr>\n",
       "    <tr>\n",
       "      <th>applfeeu</th>\n",
       "      <td>30</td>\n",
       "    </tr>\n",
       "    <tr>\n",
       "      <th>xappfeeg</th>\n",
       "      <td>R</td>\n",
       "    </tr>\n",
       "    <tr>\n",
       "      <th>applfeeg</th>\n",
       "      <td>45</td>\n",
       "    </tr>\n",
       "    <tr>\n",
       "      <th>athassoc</th>\n",
       "      <td>1</td>\n",
       "    </tr>\n",
       "    <tr>\n",
       "      <th>assoc1</th>\n",
       "      <td>1</td>\n",
       "    </tr>\n",
       "    <tr>\n",
       "      <th>assoc2</th>\n",
       "      <td>0</td>\n",
       "    </tr>\n",
       "    <tr>\n",
       "      <th>assoc3</th>\n",
       "      <td>0</td>\n",
       "    </tr>\n",
       "    <tr>\n",
       "      <th>assoc4</th>\n",
       "      <td>0</td>\n",
       "    </tr>\n",
       "    <tr>\n",
       "      <th>assoc5</th>\n",
       "      <td>0</td>\n",
       "    </tr>\n",
       "    <tr>\n",
       "      <th>assoc6</th>\n",
       "      <td>0</td>\n",
       "    </tr>\n",
       "    <tr>\n",
       "      <th>sport1</th>\n",
       "      <td>1</td>\n",
       "    </tr>\n",
       "    <tr>\n",
       "      <th>confno1</th>\n",
       "      <td>133</td>\n",
       "    </tr>\n",
       "    <tr>\n",
       "      <th>sport2</th>\n",
       "      <td>1</td>\n",
       "    </tr>\n",
       "    <tr>\n",
       "      <th>confno2</th>\n",
       "      <td>133</td>\n",
       "    </tr>\n",
       "    <tr>\n",
       "      <th>sport3</th>\n",
       "      <td>1</td>\n",
       "    </tr>\n",
       "    <tr>\n",
       "      <th>confno3</th>\n",
       "      <td>133</td>\n",
       "    </tr>\n",
       "    <tr>\n",
       "      <th>sport4</th>\n",
       "      <td>1</td>\n",
       "    </tr>\n",
       "    <tr>\n",
       "      <th>confno4</th>\n",
       "      <td>200</td>\n",
       "    </tr>\n",
       "    <tr>\n",
       "      <th>survey_year</th>\n",
       "      <td>2016</td>\n",
       "    </tr>\n",
       "    <tr>\n",
       "      <th>fall_year</th>\n",
       "      <td>2016</td>\n",
       "    </tr>\n",
       "    <tr>\n",
       "      <th>dstnugc</th>\n",
       "      <td>NaN</td>\n",
       "    </tr>\n",
       "    <tr>\n",
       "      <th>dstnugp</th>\n",
       "      <td>NaN</td>\n",
       "    </tr>\n",
       "    <tr>\n",
       "      <th>dstnugn</th>\n",
       "      <td>NaN</td>\n",
       "    </tr>\n",
       "    <tr>\n",
       "      <th>dstngc</th>\n",
       "      <td>NaN</td>\n",
       "    </tr>\n",
       "    <tr>\n",
       "      <th>dstngp</th>\n",
       "      <td>NaN</td>\n",
       "    </tr>\n",
       "    <tr>\n",
       "      <th>dstngn</th>\n",
       "      <td>NaN</td>\n",
       "    </tr>\n",
       "    <tr>\n",
       "      <th>distpgs</th>\n",
       "      <td>NaN</td>\n",
       "    </tr>\n",
       "  </tbody>\n",
       "</table>\n",
       "<p>123 rows × 1 columns</p>\n",
       "</div>"
      ],
      "text/plain": [
       "                  1\n",
       "unitid       100654\n",
       "peo1istr          0\n",
       "peo2istr          1\n",
       "peo3istr          0\n",
       "peo4istr          0\n",
       "peo5istr          0\n",
       "peo6istr          0\n",
       "cntlaffi          1\n",
       "pubprime          2\n",
       "pubsecon          0\n",
       "relaffil         -2\n",
       "level1            0\n",
       "level2            0\n",
       "level3            0\n",
       "level4            0\n",
       "level5            1\n",
       "level6            0\n",
       "level7            1\n",
       "level8            1\n",
       "level12           0\n",
       "level17           1\n",
       "level18           0\n",
       "level19           0\n",
       "calsys            1\n",
       "ft_ug             1\n",
       "ft_ftug           1\n",
       "ftgdnidp          1\n",
       "pt_ug             1\n",
       "pt_ftug           1\n",
       "ptgdnidp          1\n",
       "...             ...\n",
       "xrmbdamt          A\n",
       "rmbrdamt          .\n",
       "xappfeeu          R\n",
       "applfeeu         30\n",
       "xappfeeg          R\n",
       "applfeeg         45\n",
       "athassoc          1\n",
       "assoc1            1\n",
       "assoc2            0\n",
       "assoc3            0\n",
       "assoc4            0\n",
       "assoc5            0\n",
       "assoc6            0\n",
       "sport1            1\n",
       "confno1         133\n",
       "sport2            1\n",
       "confno2         133\n",
       "sport3            1\n",
       "confno3         133\n",
       "sport4            1\n",
       "confno4         200\n",
       "survey_year    2016\n",
       "fall_year      2016\n",
       "dstnugc         NaN\n",
       "dstnugp         NaN\n",
       "dstnugn         NaN\n",
       "dstngc          NaN\n",
       "dstngp          NaN\n",
       "dstngn          NaN\n",
       "distpgs         NaN\n",
       "\n",
       "[123 rows x 1 columns]"
      ]
     },
     "execution_count": 41,
     "metadata": {},
     "output_type": "execute_result"
    }
   ],
   "source": [
    "b.head(1).T"
   ]
  },
  {
   "cell_type": "code",
   "execution_count": null,
   "metadata": {},
   "outputs": [],
   "source": []
  }
 ],
 "metadata": {
  "kernelspec": {
   "display_name": "Python 3",
   "language": "python",
   "name": "python3"
  },
  "language_info": {
   "codemirror_mode": {
    "name": "ipython",
    "version": 3
   },
   "file_extension": ".py",
   "mimetype": "text/x-python",
   "name": "python",
   "nbconvert_exporter": "python",
   "pygments_lexer": "ipython3",
   "version": "3.7.3"
  }
 },
 "nbformat": 4,
 "nbformat_minor": 2
}
