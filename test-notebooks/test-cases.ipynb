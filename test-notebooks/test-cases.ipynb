{
 "cells": [
  {
   "cell_type": "code",
   "execution_count": null,
   "metadata": {},
   "outputs": [],
   "source": [
    "import pandas as pd"
   ]
  },
  {
   "cell_type": "markdown",
   "metadata": {},
   "source": [
    "----"
   ]
  },
  {
   "cell_type": "code",
   "execution_count": null,
   "metadata": {},
   "outputs": [],
   "source": [
    "def zip_parser(url=None, survey=None):\n",
    "    # setup the tmp path and file name\n",
    "    # thanks to https://stackoverflow.com/questions/55718917/download-zip-file-locally-to-tempfile-extract-files-to-tempfile-and-list-the-f/55719124#55719124\n",
    "    path = \"/tmp/\"\n",
    "    file = survey + \".zip\"\n",
    "    survey_lower = survey.lower()\n",
    "    # get the data\n",
    "    try:\n",
    "      results = requests.get(url)\n",
    "    except:\n",
    "      pass\n",
    "    with open(path + file, 'wb') as f:\n",
    "        f.write(results.content)\n",
    "    # extract the files to the path\n",
    "    file = zipfile.ZipFile(path + file)\n",
    "    file.extractall(path=path)\n",
    "    # list the csv files for the surveys, most likely get one , but may get to with _rv for revised\n",
    "    files = glob.glob(path + \"*\"+survey_lower+\"*\")\n",
    "    # isolate the file name\n",
    "    if len(files) > 1:\n",
    "        raw_file = [s for s in files if 'rv' in s]\n",
    "        raw_file = str(raw_file[0]) # just in case, take first\n",
    "    else:\n",
    "        raw_file = str(files[0])\n",
    "    # return a string\n",
    "    return(str(raw_file))"
   ]
  },
  {
   "cell_type": "code",
   "execution_count": null,
   "metadata": {},
   "outputs": [],
   "source": [
    "def read_survey(path):\n",
    "    if isinstance(path, list):\n",
    "        path = path[0]\n",
    "    # assumes a path, presumably from zip_parser\n",
    "    try:\n",
    "        ## encoding option needed for h2017, at least, wasnt needed for IC2013\n",
    "        survey_file = pd.read_csv(path, encoding='ISO-8859-1')\n",
    "    except:\n",
    "        survey_file = pd.DataFrame({'path':path})\n",
    "    # column names to lower - helps later and assumes a survey varname is historically unique\n",
    "    survey_file.columns = survey_file.columns.str.lower()\n",
    "    # add the survey\n",
    "    return(survey_file)\n"
   ]
  },
  {
   "cell_type": "code",
   "execution_count": null,
   "metadata": {},
   "outputs": [],
   "source": []
  },
  {
   "cell_type": "markdown",
   "metadata": {},
   "source": [
    "---"
   ]
  },
  {
   "cell_type": "code",
   "execution_count": null,
   "metadata": {},
   "outputs": [],
   "source": []
  },
  {
   "cell_type": "code",
   "execution_count": null,
   "metadata": {},
   "outputs": [],
   "source": [
    "class IC(object):\n",
    "    \"\"\"docstring\"\"\"\n",
    "    \n",
    "    # init\n",
    "    def __init__(self, years=[2017]):\n",
    "        \"\"\"Constructor\"\"\"\n",
    "        assert isinstance(years, list), \"year is not a list of integers representing 4-digit year for survey\"\n",
    "        self.years = years\n",
    "        self.df = None\n",
    "        \n",
    "    # testing\n",
    "    def get_test(self):\n",
    "        for year in self.years:\n",
    "            print(year)\n",
    "\n",
    "\n",
    "    # method to get the data and return a dataframe\n",
    "    def get(self):\n",
    "        # setup the df\n",
    "        init_df = pd.DataFrame({'pypeds_init': [True]})\n",
    "        for year in self.years:\n",
    "            # assert that year is a int and length 1\n",
    "            assert isinstance(year, int), \"year is not an integer\"\n",
    "            assert year >= 2002 and year <= 2017, \"year must be >=2002 and < 2017\"\n",
    "            # build the SURVEY id\n",
    "            SURVEY = 'IC' + str(year)\n",
    "            # build the url\n",
    "            URL = \"https://nces.ed.gov/ipeds/datacenter/data/{}.zip\".format(SURVEY)\n",
    "            # return the bits as a dictionary for use later\n",
    "            year_info = {'url': URL, 'survey': SURVEY}\n",
    "            #year_info = get_efc(year)\n",
    "            year_fpath = zip_parser(url=year_info['url'], survey=year_info['survey'])\n",
    "            tmp_df = read_survey(year_fpath)\n",
    "            tmp_df.columns = tmp_df.columns.str.lower()\n",
    "            tmp_df['survey_year'] = int(year)\n",
    "            tmp_df['fall_year'] = int(year)\n",
    "            init_df = init_df.append(tmp_df, ignore_index=True, sort=False)\n",
    "            # print(\"finished hd for year {}\".format(str(year)))\n",
    "        # finish up\n",
    "        # ignore pandas SettingWithCopyWarning, basically\n",
    "        pd.options.mode.chained_assignment = None\n",
    "        init_df = init_df.loc[init_df.pypeds_init != True, ]\n",
    "        init_df.drop(columns=['pypeds_init'], inplace=True)\n",
    "        #self.df = init_df\n",
    "        return init_df\n"
   ]
  },
  {
   "cell_type": "code",
   "execution_count": null,
   "metadata": {},
   "outputs": [],
   "source": [
    "ic = IC()"
   ]
  },
  {
   "cell_type": "code",
   "execution_count": null,
   "metadata": {},
   "outputs": [],
   "source": [
    "ic.get()"
   ]
  },
  {
   "cell_type": "code",
   "execution_count": null,
   "metadata": {},
   "outputs": [],
   "source": []
  }
 ],
 "metadata": {
  "kernelspec": {
   "display_name": "Python 3",
   "language": "python",
   "name": "python3"
  },
  "language_info": {
   "codemirror_mode": {
    "name": "ipython",
    "version": 3
   },
   "file_extension": ".py",
   "mimetype": "text/x-python",
   "name": "python",
   "nbconvert_exporter": "python",
   "pygments_lexer": "ipython3",
   "version": "3.7.3"
  }
 },
 "nbformat": 4,
 "nbformat_minor": 2
}
