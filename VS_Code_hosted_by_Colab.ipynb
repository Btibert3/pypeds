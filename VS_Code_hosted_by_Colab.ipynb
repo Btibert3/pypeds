{
  "nbformat": 4,
  "nbformat_minor": 0,
  "metadata": {
    "colab": {
      "name": "VS_Code_hosted_by_Colab",
      "provenance": [],
      "private_outputs": true,
      "collapsed_sections": [],
      "toc_visible": true,
      "include_colab_link": true
    },
    "kernelspec": {
      "name": "python3",
      "display_name": "Python 3"
    }
  },
  "cells": [
    {
      "cell_type": "markdown",
      "metadata": {
        "id": "view-in-github",
        "colab_type": "text"
      },
      "source": [
        "<a href=\"https://colab.research.google.com/github/Btibert3/pypeds/blob/master/VS_Code_hosted_by_Colab.ipynb\" target=\"_parent\"><img src=\"https://colab.research.google.com/assets/colab-badge.svg\" alt=\"Open In Colab\"/></a>"
      ]
    },
    {
      "cell_type": "markdown",
      "metadata": {
        "id": "3OUs9q4QCepW",
        "colab_type": "text"
      },
      "source": [
        "# About\n",
        "\n",
        "VS Code Server on Colab Machine and runs VS Code (IDE) in the cloud.  We do so by using the config of colab (python setup) and the server to expose a port and run VS Code in the cloud."
      ]
    },
    {
      "cell_type": "markdown",
      "metadata": {
        "id": "hzeFFjp4AifW",
        "colab_type": "text"
      },
      "source": [
        "https://www.youtube.com/watch?v=7kTbM3D02jU"
      ]
    },
    {
      "cell_type": "markdown",
      "metadata": {
        "id": "gP1yJ4bTAqGn",
        "colab_type": "text"
      },
      "source": [
        "Within the Code Server, you can file > open to find the /content folder which represents the \"Home\" in Google Colab"
      ]
    },
    {
      "cell_type": "code",
      "metadata": {
        "id": "x3BqWdKhAKRA",
        "colab_type": "code",
        "colab": {}
      },
      "source": [
        "!pip install colabcode"
      ],
      "execution_count": null,
      "outputs": []
    },
    {
      "cell_type": "code",
      "metadata": {
        "id": "PjQbDhHlANtq",
        "colab_type": "code",
        "colab": {}
      },
      "source": [
        "from colabcode import ColabCode\n",
        "\n"
      ],
      "execution_count": null,
      "outputs": []
    },
    {
      "cell_type": "code",
      "metadata": {
        "id": "rr5GwyXgAWO0",
        "colab_type": "code",
        "colab": {}
      },
      "source": [
        "ColabCode(port=10000, password='is834')"
      ],
      "execution_count": null,
      "outputs": []
    },
    {
      "cell_type": "markdown",
      "metadata": {
        "id": "e4nYShgLDDIz",
        "colab_type": "text"
      },
      "source": [
        "------"
      ]
    },
    {
      "cell_type": "markdown",
      "metadata": {
        "id": "acpDFyvvCcQo",
        "colab_type": "text"
      },
      "source": [
        "> To stop the server, just click the stop button above."
      ]
    },
    {
      "cell_type": "code",
      "metadata": {
        "id": "Wd72ZyEMDCjE",
        "colab_type": "code",
        "colab": {}
      },
      "source": [
        ""
      ],
      "execution_count": null,
      "outputs": []
    }
  ]
}